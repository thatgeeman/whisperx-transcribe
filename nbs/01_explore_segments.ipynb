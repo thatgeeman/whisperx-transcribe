{
 "cells": [
  {
   "cell_type": "code",
   "execution_count": null,
   "metadata": {},
   "outputs": [],
   "source": [
    "import json\n",
    "import datetime\n",
    "import logging\n",
    "from typing import Generator, Dict, List"
   ]
  },
  {
   "cell_type": "code",
   "execution_count": null,
   "metadata": {},
   "outputs": [],
   "source": [
    "SEGMENT_FILE = \"../assets/sample/audio_diarized.json\"\n",
    "\n",
    "\n",
    "def load_segments(segments_file):\n",
    "    \"\"\"\n",
    "    Load segments from a JSON file.\n",
    "    \"\"\"\n",
    "    try:\n",
    "        with open(segments_file, \"r\") as file:\n",
    "            segments = json.load(file)[\"segments\"]\n",
    "    except Exception as e:\n",
    "        logging.info(f\"Error loading segments from {segments_file}: {e}\")\n",
    "    return segments"
   ]
  },
  {
   "cell_type": "markdown",
   "metadata": {},
   "source": [
    "We care mostly about sentence segments for now.\n"
   ]
  },
  {
   "cell_type": "code",
   "execution_count": null,
   "metadata": {},
   "outputs": [],
   "source": [
    "segments = load_segments(SEGMENT_FILE)\n",
    "len(segments)"
   ]
  },
  {
   "cell_type": "code",
   "execution_count": null,
   "metadata": {},
   "outputs": [],
   "source": [
    "# as timestamp like in srt files\n",
    "datetime.datetime.fromtimestamp(segments[0][\"start\"]).strftime(\"%H:%M:%S.%f\")"
   ]
  },
  {
   "cell_type": "markdown",
   "metadata": {},
   "source": [
    "Speaker names may not be always known.\n"
   ]
  },
  {
   "cell_type": "code",
   "execution_count": null,
   "metadata": {},
   "outputs": [],
   "source": [
    "speaker_names = {\n",
    "    \"SPEAKER_07\": \"Alice\",\n",
    "}"
   ]
  },
  {
   "cell_type": "code",
   "execution_count": null,
   "metadata": {},
   "outputs": [],
   "source": [
    "start_timestamp = datetime.datetime.fromtimestamp(segments[0][\"start\"]).strftime(\n",
    "    \"%H:%M:%S.%f\"\n",
    ")\n",
    "end_timestamp = datetime.datetime.fromtimestamp(segments[0][\"end\"]).strftime(\n",
    "    \"%H:%M:%S.%f\"\n",
    ")\n",
    "\n",
    "phrase = segments[0][\"text\"]\n",
    "speaker = segments[0][\"speaker\"]\n",
    "alt_speaker_name = speaker_names.get(speaker, speaker)\n",
    "\n",
    "print(\n",
    "    f'{start_timestamp} --> {end_timestamp}\\n{alt_speaker_name}: \"{phrase.strip()}\"\\n'\n",
    ")"
   ]
  },
  {
   "cell_type": "markdown",
   "metadata": {},
   "source": [
    "Get full segments with timestamps and speaker labels.\n"
   ]
  },
  {
   "cell_type": "code",
   "execution_count": null,
   "metadata": {},
   "outputs": [],
   "source": [
    "def labeled_segment(segment, speaker_names: dict = {}) -> dict:\n",
    "    \"\"\"\n",
    "    Convert a segment to a labeled string with timestamps and speaker names.\n",
    "    \"\"\"\n",
    "    if len(segment[\"words\"]) <= 2:\n",
    "        return\n",
    "\n",
    "    start_timestamp = segment[\"start\"]\n",
    "    end_timestamp = segment[\"end\"]\n",
    "    speaker = segment[\"speaker\"]\n",
    "    alt_speaker_name = speaker_names.get(speaker, speaker)\n",
    "    phrase = segment[\"text\"]\n",
    "\n",
    "    return {\n",
    "        \"start\": start_timestamp,\n",
    "        \"end\": end_timestamp,\n",
    "        \"speaker\": alt_speaker_name,\n",
    "        \"phrase\": phrase.strip(),\n",
    "    }"
   ]
  },
  {
   "cell_type": "code",
   "execution_count": null,
   "metadata": {},
   "outputs": [],
   "source": [
    "labeled_segment(segments[0], speaker_names)"
   ]
  },
  {
   "cell_type": "markdown",
   "metadata": {},
   "source": [
    "We could also skip short segments (based on words spoken).\n"
   ]
  },
  {
   "cell_type": "code",
   "execution_count": null,
   "metadata": {},
   "outputs": [],
   "source": [
    "def get_segment_iterator(\n",
    "    segments, speaker_names: dict = {}\n",
    ") -> Generator[dict, None, None]:\n",
    "    return (labeled_segment(segment, speaker_names) for segment in segments)"
   ]
  },
  {
   "cell_type": "code",
   "execution_count": null,
   "metadata": {},
   "outputs": [],
   "source": [
    "get_segment_iterator(segments, speaker_names)"
   ]
  },
  {
   "cell_type": "code",
   "execution_count": null,
   "metadata": {},
   "outputs": [],
   "source": [
    "def group_speakers(segments, speaker_names: dict = {}) -> List[Dict[str, str | float]]:\n",
    "    speaker_phrases = []\n",
    "    prev_p = {\"speaker\": \"\", \"phrase\": \"\"}\n",
    "    for p in get_segment_iterator(segments, speaker_names):\n",
    "        if p is None:\n",
    "            continue  # skip segments with too few words\n",
    "        if p[\"speaker\"] == prev_p[\"speaker\"]:\n",
    "            # join phrases of the same speaker and update end time\n",
    "            prev_p[\"phrase\"] += \" \" + p[\"phrase\"]\n",
    "            prev_p[\"end\"] = p[\"end\"]\n",
    "        else:\n",
    "            speaker_phrases.append(p)\n",
    "            prev_p = p\n",
    "    return speaker_phrases"
   ]
  },
  {
   "cell_type": "code",
   "execution_count": null,
   "metadata": {},
   "outputs": [],
   "source": [
    "group_speakers(segments, speaker_names)"
   ]
  },
  {
   "cell_type": "code",
   "execution_count": null,
   "metadata": {},
   "outputs": [],
   "source": []
  },
  {
   "cell_type": "code",
   "execution_count": null,
   "metadata": {},
   "outputs": [],
   "source": []
  },
  {
   "cell_type": "code",
   "execution_count": null,
   "metadata": {},
   "outputs": [],
   "source": []
  }
 ],
 "metadata": {
  "kernelspec": {
   "display_name": "whisperx",
   "language": "python",
   "name": "python3"
  },
  "language_info": {
   "codemirror_mode": {
    "name": "ipython",
    "version": 3
   },
   "file_extension": ".py",
   "mimetype": "text/x-python",
   "name": "python",
   "nbconvert_exporter": "python",
   "pygments_lexer": "ipython3",
   "version": "3.10.18"
  }
 },
 "nbformat": 4,
 "nbformat_minor": 2
}
