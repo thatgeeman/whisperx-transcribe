{
 "cells": [
  {
   "cell_type": "markdown",
   "metadata": {},
   "source": [
    "Meant to work with sequential vector indices and some prompting as per instructions\n",
    "here prompts/user_per_speaker_01.md to create action items per speaker. \n",
    "\n",
    "Here we are summarizing people, and what they said. May not be great for interwoven conversations."
   ]
  },
  {
   "cell_type": "code",
   "execution_count": null,
   "metadata": {},
   "outputs": [],
   "source": [
    "import json\n",
    "import os\n",
    "from datetime import datetime\n",
    "\n",
    "from langchain_core.prompts import PromptTemplate\n",
    "from llama_index.core import Settings\n",
    "from llama_index.llms.ollama import Ollama\n",
    "from llama_index.embeddings.huggingface import HuggingFaceEmbedding\n",
    "from pathlib import Path\n",
    "\n",
    "import whisperx_transcribe.utils as ut\n",
    "from whisperx_transcribe import logger, start_time"
   ]
  },
  {
   "cell_type": "code",
   "execution_count": null,
   "metadata": {},
   "outputs": [],
   "source": [
    "HISTORY = \"../.history\"\n",
    "PROMPT_FILE = \"../prompts/instructions_01.md\"\n",
    "SEG_FILE = \"../assets/sample/audio_diarized.json\"\n",
    "GROUP_SEG_FILE = f\"../{SEG_FILE.split('.')[0]}_grouped.json\""
   ]
  },
  {
   "cell_type": "markdown",
   "metadata": {},
   "source": [
    "No grouping is necessary, the transcript is fed into the index step by step."
   ]
  },
  {
   "cell_type": "code",
   "execution_count": null,
   "metadata": {},
   "outputs": [],
   "source": [
    "segments = ut.load_segments(segments_file=SEG_FILE)\n",
    "with open(PROMPT_FILE, \"r\") as f:\n",
    "    instructions = f.read()"
   ]
  },
  {
   "cell_type": "markdown",
   "metadata": {},
   "source": [
    "Still a good idea to group the continuous sections of the transcript to make it easy for retriever. "
   ]
  },
  {
   "cell_type": "code",
   "execution_count": null,
   "metadata": {},
   "outputs": [],
   "source": [
    "grouped_segments = ut.group_speakers(segments=segments)"
   ]
  },
  {
   "cell_type": "code",
   "execution_count": null,
   "metadata": {},
   "outputs": [],
   "source": [
    "len(segments), len(grouped_segments)"
   ]
  },
  {
   "cell_type": "code",
   "execution_count": null,
   "metadata": {},
   "outputs": [],
   "source": [
    "ut.speaker_segment(grouped_segments[0])"
   ]
  },
  {
   "cell_type": "markdown",
   "metadata": {},
   "source": [
    "Each Document in LlamaIndex will here represent a single turn or a small group of related turns."
   ]
  },
  {
   "cell_type": "code",
   "execution_count": null,
   "metadata": {},
   "outputs": [],
   "source": [
    "SPEAKERS = ut.get_all_speakers(segments=grouped_segments)\n",
    "SPEAKERS"
   ]
  },
  {
   "cell_type": "code",
   "execution_count": null,
   "metadata": {},
   "outputs": [],
   "source": [
    "model = \"gemma3:4b\"\n",
    "llm = Ollama(model=model, request_timeout=1000)\n",
    "embed_model = HuggingFaceEmbedding(\n",
    "    \"Qwen/Qwen3-Embedding-0.6B\",\n",
    "    trust_remote_code=True,\n",
    "    cache_folder=\"../model\",\n",
    ")\n",
    "Settings.embed_model = embed_model\n",
    "Settings.llm = llm\n",
    "\n",
    "persist_dir = \"storage\"\n",
    "Path(persist_dir).mkdir(parents=True, exist_ok=True)"
   ]
  },
  {
   "cell_type": "code",
   "execution_count": null,
   "metadata": {},
   "outputs": [],
   "source": [
    "from llama_index.core import VectorStoreIndex, StorageContext, SummaryIndex\n",
    "\n",
    "summary_index = SummaryIndex.from_documents(documents=[], show_progress=True)\n",
    "# vector_index = VectorStoreIndex.from_documents(documents=[], show_progress=True)\n",
    "# storage_context=StorageContext.from_defaults(persist_dir=persist_dir)\n",
    "summary_index.set_index_id(f\"summary_index_{start_time}\")\n",
    "summary_index.storage_context.persist(persist_dir)\n",
    "len_segments = len(grouped_segments)\n",
    "for idx, segment in enumerate(grouped_segments):\n",
    "    doc = ut.speaker_segment(segment, turn_id=idx)\n",
    "    summary_index.insert(doc)"
   ]
  },
  {
   "cell_type": "code",
   "execution_count": null,
   "metadata": {},
   "outputs": [],
   "source": [
    "len(summary_index.docstore.docs)"
   ]
  },
  {
   "cell_type": "code",
   "execution_count": null,
   "metadata": {},
   "outputs": [],
   "source": [
    "summary_index.docstore.docs[list(summary_index.docstore.docs.keys())[2]]"
   ]
  },
  {
   "cell_type": "code",
   "execution_count": null,
   "metadata": {},
   "outputs": [],
   "source": [
    "from llama_index.core.vector_stores import (\n",
    "    FilterOperator,\n",
    "    MetadataFilter,\n",
    "    MetadataFilters,\n",
    "    ExactMatchFilter,\n",
    ")\n",
    "from llama_index.core.prompts import RichPromptTemplate, SelectorPromptTemplate\n",
    "from llama_index.core.query_engine import RetrieverQueryEngine"
   ]
  },
  {
   "cell_type": "code",
   "execution_count": null,
   "metadata": {},
   "outputs": [],
   "source": [
    "from llama_index.core.tools import QueryEngineTool"
   ]
  },
  {
   "cell_type": "markdown",
   "metadata": {},
   "source": []
  },
  {
   "cell_type": "code",
   "execution_count": null,
   "metadata": {},
   "outputs": [],
   "source": [
    "base = RichPromptTemplate(\n",
    "    template_str=open(\"../prompts/user_conversation_01.md\", \"r\").read(),\n",
    "    template_format=\"f-string\",\n",
    ")\n",
    "qe_summarizer = summary_index.as_query_engine(\n",
    "    summary_template=base,\n",
    "    response_mode=\"tree_summarize\",\n",
    ")"
   ]
  },
  {
   "cell_type": "markdown",
   "metadata": {},
   "source": [
    "Multiple qeuery tools that focus on different aspects of the conversation. "
   ]
  },
  {
   "cell_type": "code",
   "execution_count": null,
   "metadata": {},
   "outputs": [],
   "source": [
    "summary_tool = QueryEngineTool.from_defaults(\n",
    "    query_engine=qe_summarizer,\n",
    "    description=(\"Useful for summarization of the full conversation between speakers\"),\n",
    ")"
   ]
  },
  {
   "cell_type": "code",
   "execution_count": null,
   "metadata": {},
   "outputs": [],
   "source": [
    "from llama_index.core.query_engine import RouterQueryEngine\n",
    "from llama_index.core.selectors import LLMSingleSelector, LLMMultiSelector\n",
    "from llama_index.core.selectors import (\n",
    "    PydanticMultiSelector,\n",
    "    PydanticSingleSelector,\n",
    ")\n",
    "\n",
    "query_engine = RouterQueryEngine(\n",
    "    selector=LLMMultiSelector.from_defaults(),\n",
    "    query_engine_tools=[\n",
    "        summary_tool,\n",
    "        # add more indices for each task\n",
    "    ],\n",
    ")"
   ]
  },
  {
   "cell_type": "code",
   "execution_count": null,
   "metadata": {},
   "outputs": [],
   "source": [
    "response = query_engine.query(\"What is the summary of the document?\")\n",
    "print(str(response))"
   ]
  },
  {
   "cell_type": "code",
   "execution_count": null,
   "metadata": {},
   "outputs": [],
   "source": [
    "response.metadata[\"selector_result\"].reasons"
   ]
  },
  {
   "cell_type": "markdown",
   "metadata": {},
   "source": [
    "Here we are summarizing people, and what they said. May not be great for interwoven conversations. OK for single speakers. "
   ]
  },
  {
   "cell_type": "code",
   "execution_count": null,
   "metadata": {},
   "outputs": [],
   "source": [
    "for speaker in SPEAKERS:\n",
    "    response = query_per_speaker(speaker)\n",
    "    print(f\"Summary for {speaker}:\", response)\n",
    "    print(\"\\n\" + \"=\" * 80 + \"\\n\")"
   ]
  },
  {
   "cell_type": "code",
   "execution_count": null,
   "metadata": {},
   "outputs": [],
   "source": []
  }
 ],
 "metadata": {
  "kernelspec": {
   "display_name": "wxt",
   "language": "python",
   "name": "python3"
  },
  "language_info": {
   "codemirror_mode": {
    "name": "ipython",
    "version": 3
   },
   "file_extension": ".py",
   "mimetype": "text/x-python",
   "name": "python",
   "nbconvert_exporter": "python",
   "pygments_lexer": "ipython3",
   "version": "3.10.14"
  }
 },
 "nbformat": 4,
 "nbformat_minor": 2
}
