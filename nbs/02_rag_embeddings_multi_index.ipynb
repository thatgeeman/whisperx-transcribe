{
 "cells": [
  {
   "cell_type": "markdown",
   "metadata": {},
   "source": [
    "Meant to work with sequential vector indices and some prompting as per instructions\n",
    "here prompts/user_per_speaker_01.md to create action items per speaker. \n",
    "\n",
    "Here we are summarizing people, and what they said. May not be great for interwoven conversations."
   ]
  },
  {
   "cell_type": "code",
   "execution_count": null,
   "metadata": {},
   "outputs": [],
   "source": [
    "import json\n",
    "import os\n",
    "from datetime import datetime\n",
    "\n",
    "from langchain_core.prompts import PromptTemplate\n",
    "from llama_index.core import Settings\n",
    "from llama_index.llms.ollama import Ollama\n",
    "from llama_index.embeddings.huggingface import HuggingFaceEmbedding\n",
    "from pathlib import Path\n",
    "\n",
    "import whisperx_transcribe.utils as ut\n",
    "from whisperx_transcribe import logger, start_time"
   ]
  },
  {
   "cell_type": "code",
   "execution_count": null,
   "metadata": {},
   "outputs": [],
   "source": [
    "HISTORY = \"../.history\"\n",
    "PROMPT_FILE = \"../prompts/instructions_01.md\"\n",
    "SEG_FILE = \"../assets/sample/audio_diarized.json\"\n",
    "GROUP_SEG_FILE = f\"../{SEG_FILE.split('.')[0]}_grouped.json\""
   ]
  },
  {
   "cell_type": "markdown",
   "metadata": {},
   "source": [
    "No grouping is necessary, the transcript is fed into the index step by step."
   ]
  },
  {
   "cell_type": "code",
   "execution_count": null,
   "metadata": {},
   "outputs": [],
   "source": [
    "segments = ut.load_segments(segments_file=SEG_FILE)\n",
    "with open(PROMPT_FILE, \"r\") as f:\n",
    "    instructions = f.read()"
   ]
  },
  {
   "cell_type": "markdown",
   "metadata": {},
   "source": [
    "Still a good idea to group the continuous sections of the transcript to make it easy for retriever. "
   ]
  },
  {
   "cell_type": "code",
   "execution_count": null,
   "metadata": {},
   "outputs": [],
   "source": [
    "grouped_segments = ut.group_speakers(segments=segments)"
   ]
  },
  {
   "cell_type": "code",
   "execution_count": null,
   "metadata": {},
   "outputs": [],
   "source": [
    "len(segments), len(grouped_segments)"
   ]
  },
  {
   "cell_type": "code",
   "execution_count": null,
   "metadata": {},
   "outputs": [],
   "source": [
    "ut.speaker_segment(grouped_segments[0])"
   ]
  },
  {
   "cell_type": "markdown",
   "metadata": {},
   "source": [
    "Each Document in LlamaIndex will here represent a single turn or a small group of related turns."
   ]
  },
  {
   "cell_type": "code",
   "execution_count": null,
   "metadata": {},
   "outputs": [],
   "source": [
    "SPEAKERS = ut.get_all_speakers(segments=grouped_segments)\n",
    "SPEAKERS"
   ]
  },
  {
   "cell_type": "code",
   "execution_count": null,
   "metadata": {},
   "outputs": [],
   "source": [
    "model = \"gemma3:4b\"\n",
    "llm = Ollama(model=model, request_timeout=1000)\n",
    "embed_model = HuggingFaceEmbedding(\n",
    "    \"Qwen/Qwen3-Embedding-0.6B\",\n",
    "    trust_remote_code=True,\n",
    "    cache_folder=\"../model\",\n",
    ")\n",
    "Settings.embed_model = embed_model\n",
    "Settings.llm = llm\n",
    "\n",
    "persist_dir = \"storage\"\n",
    "Path(persist_dir).mkdir(parents=True, exist_ok=True)"
   ]
  },
  {
   "cell_type": "code",
   "execution_count": null,
   "metadata": {},
   "outputs": [],
   "source": [
    "from llama_index.core import VectorStoreIndex, StorageContext, SummaryIndex\n",
    "\n",
    "summary_index = SummaryIndex.from_documents(documents=[], show_progress=True)\n",
    "# vector_index = VectorStoreIndex.from_documents(documents=[], show_progress=True)\n",
    "# storage_context=StorageContext.from_defaults(persist_dir=persist_dir)\n",
    "summary_index.set_index_id(f\"summary_index_{start_time}\")\n",
    "summary_index.storage_context.persist(persist_dir)\n",
    "len_segments = len(grouped_segments)\n",
    "for idx, segment in enumerate(grouped_segments):\n",
    "    doc = ut.speaker_segment(segment, turn_id=idx)\n",
    "    summary_index.insert(doc)"
   ]
  },
  {
   "cell_type": "code",
   "execution_count": null,
   "metadata": {},
   "outputs": [],
   "source": [
    "len(summary_index.docstore.docs)"
   ]
  },
  {
   "cell_type": "code",
   "execution_count": null,
   "metadata": {},
   "outputs": [],
   "source": [
    "summary_index.docstore.docs[list(summary_index.docstore.docs.keys())[2]]"
   ]
  },
  {
   "cell_type": "code",
   "execution_count": null,
   "metadata": {},
   "outputs": [],
   "source": [
    "from llama_index.core.vector_stores import (\n",
    "    FilterOperator,\n",
    "    MetadataFilter,\n",
    "    MetadataFilters,\n",
    "    ExactMatchFilter,\n",
    ")\n",
    "from llama_index.core.prompts import RichPromptTemplate, SelectorPromptTemplate\n",
    "from llama_index.core.query_engine import RetrieverQueryEngine"
   ]
  },
  {
   "cell_type": "code",
   "execution_count": null,
   "metadata": {},
   "outputs": [],
   "source": [
    "from llama_index.core.tools import QueryEngineTool\n",
    "from whisperx_transcribe import query_engines"
   ]
  },
  {
   "cell_type": "markdown",
   "metadata": {},
   "source": [
    "Multiple qeuery tools that focus on different aspects of the conversation. "
   ]
  },
  {
   "cell_type": "code",
   "execution_count": null,
   "metadata": {},
   "outputs": [],
   "source": [
    "QUERY_ENGINE_TOOLS = []"
   ]
  },
  {
   "cell_type": "markdown",
   "metadata": {},
   "source": [
    "Basic per speaker extraction."
   ]
  },
  {
   "cell_type": "code",
   "execution_count": null,
   "metadata": {},
   "outputs": [],
   "source": [
    "SPEAKERS"
   ]
  },
  {
   "cell_type": "code",
   "execution_count": null,
   "metadata": {},
   "outputs": [],
   "source": [
    "for speaker in SPEAKERS:\n",
    "    _, qe_speaker_summary_tool = query_engines.query_per_speaker(\n",
    "        summary_index=summary_index, speaker=speaker\n",
    "    )\n",
    "    QUERY_ENGINE_TOOLS.append(qe_speaker_summary_tool)"
   ]
  },
  {
   "cell_type": "code",
   "execution_count": null,
   "metadata": {},
   "outputs": [],
   "source": [
    "QUERY_ENGINE_TOOLS"
   ]
  },
  {
   "cell_type": "markdown",
   "metadata": {},
   "source": [
    "For the main action items from the conversation (including all participants.)"
   ]
  },
  {
   "cell_type": "code",
   "execution_count": null,
   "metadata": {},
   "outputs": [],
   "source": [
    "_, action_items_tool = query_engines.query_action_items(summary_index)\n",
    "_, disagreements_tool = query_engines.query_disagreements(summary_index)\n",
    "_, decisions_tool = query_engines.query_key_decisions(summary_index)\n",
    "_, key_topics_tool = query_engines.query_key_items(summary_index)\n",
    "_, tldr_tool = query_engines.query_tldr(summary_index)\n",
    "\n",
    "QUERY_ENGINE_TOOLS.extend(\n",
    "    [\n",
    "        action_items_tool,\n",
    "        disagreements_tool,\n",
    "        decisions_tool,\n",
    "        key_topics_tool,\n",
    "        tldr_tool,\n",
    "    ]\n",
    ")"
   ]
  },
  {
   "cell_type": "code",
   "execution_count": null,
   "metadata": {},
   "outputs": [],
   "source": [
    "QUERY_ENGINE_TOOLS"
   ]
  },
  {
   "cell_type": "code",
   "execution_count": null,
   "metadata": {},
   "outputs": [],
   "source": [
    "from llama_index.core.query_engine import RouterQueryEngine\n",
    "from llama_index.core.selectors import LLMMultiSelector, LLMSingleSelector\n",
    "\n",
    "query_engine = RouterQueryEngine(\n",
    "    selector=LLMMultiSelector.from_defaults(),\n",
    "    query_engine_tools=QUERY_ENGINE_TOOLS,\n",
    ")"
   ]
  },
  {
   "cell_type": "code",
   "execution_count": null,
   "metadata": {},
   "outputs": [],
   "source": [
    "response = query_engine.query(\n",
    "    \"You are an expert meeting assistant. \"\n",
    "    \"Based on the following key conversational exchanges from a meeting transcript, \"\n",
    "    \"generate a concise narrative summary. \"\n",
    "    \"Describe the flow of the conversation, \"\n",
    "    \"how ideas were built upon, and what conclusions were reached.\"\n",
    ")\n",
    "response"
   ]
  },
  {
   "cell_type": "code",
   "execution_count": null,
   "metadata": {},
   "outputs": [],
   "source": [
    "print(response.response)"
   ]
  },
  {
   "cell_type": "markdown",
   "metadata": {},
   "source": [
    "Even explains why a particular tool was used."
   ]
  },
  {
   "cell_type": "code",
   "execution_count": null,
   "metadata": {},
   "outputs": [],
   "source": [
    "response.metadata[\"selector_result\"].reasons"
   ]
  },
  {
   "cell_type": "markdown",
   "metadata": {},
   "source": [
    "Or can do it systematically in a template filling form."
   ]
  },
  {
   "cell_type": "code",
   "execution_count": null,
   "metadata": {},
   "outputs": [],
   "source": [
    "query_engine = RouterQueryEngine(\n",
    "    selector=LLMSingleSelector.from_defaults(),\n",
    "    query_engine_tools=QUERY_ENGINE_TOOLS,\n",
    ")"
   ]
  },
  {
   "cell_type": "code",
   "execution_count": null,
   "metadata": {},
   "outputs": [],
   "source": []
  },
  {
   "cell_type": "code",
   "execution_count": null,
   "metadata": {},
   "outputs": [],
   "source": [
    "action_items = query_engine.query(\"List all action items from the meeting.\")\n",
    "decisions = query_engine.query(\"List all key decisions made in the meeting.\")\n",
    "topics = query_engine.query(\"What were the key topics of the meeting?\")\n",
    "disagreements = query_engine.query(\"Were there any disagreements? List them.\")\n",
    "tldr = query_engine.query(\"Give a one-paragraph TL;DR of the meeting.\")"
   ]
  },
  {
   "cell_type": "markdown",
   "metadata": {},
   "source": [
    "Final synthesis:"
   ]
  },
  {
   "cell_type": "code",
   "execution_count": null,
   "metadata": {},
   "outputs": [],
   "source": [
    "final_synthesis = f\"\"\" \n",
    "{tldr}\n",
    " \n",
    "{topics}\n",
    " \n",
    "{decisions}\n",
    " \n",
    "{disagreements}\n",
    " \n",
    "{action_items} \n",
    "\"\"\""
   ]
  },
  {
   "cell_type": "code",
   "execution_count": null,
   "metadata": {},
   "outputs": [],
   "source": [
    "from IPython.display import Markdown"
   ]
  },
  {
   "cell_type": "code",
   "execution_count": null,
   "metadata": {},
   "outputs": [],
   "source": [
    "Markdown(final_synthesis)"
   ]
  },
  {
   "cell_type": "code",
   "execution_count": null,
   "metadata": {},
   "outputs": [],
   "source": [
    "# response = llm.complete(final_prompt)"
   ]
  },
  {
   "cell_type": "code",
   "execution_count": null,
   "metadata": {},
   "outputs": [],
   "source": [
    "# print(response.text)"
   ]
  },
  {
   "cell_type": "code",
   "execution_count": null,
   "metadata": {},
   "outputs": [],
   "source": []
  }
 ],
 "metadata": {
  "kernelspec": {
   "display_name": "wxt",
   "language": "python",
   "name": "python3"
  },
  "language_info": {
   "codemirror_mode": {
    "name": "ipython",
    "version": 3
   },
   "file_extension": ".py",
   "mimetype": "text/x-python",
   "name": "python",
   "nbconvert_exporter": "python",
   "pygments_lexer": "ipython3",
   "version": "3.10.14"
  }
 },
 "nbformat": 4,
 "nbformat_minor": 2
}
