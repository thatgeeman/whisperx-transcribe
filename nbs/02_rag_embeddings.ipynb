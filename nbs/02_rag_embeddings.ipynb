{
 "cells": [
  {
   "cell_type": "markdown",
   "metadata": {},
   "source": [
    "Meant to work with sequential vector indices and some prompting as per instructions\n",
    "here prompts/user_per_speaker_01.md to create action items per speaker. \n",
    "\n",
    "Here we are summarizing people, and what they said. May not be great for interwoven conversations."
   ]
  },
  {
   "cell_type": "code",
   "execution_count": null,
   "metadata": {},
   "outputs": [],
   "source": [
    "import json\n",
    "import os\n",
    "from datetime import datetime\n",
    "\n",
    "from langchain_core.prompts import PromptTemplate\n",
    "from llama_index.core import Settings\n",
    "from llama_index.llms.ollama import Ollama\n",
    "from llama_index.embeddings.huggingface import HuggingFaceEmbedding\n",
    "from pathlib import Path\n",
    "\n",
    "import whisperx_transcribe.utils as ut\n",
    "from whisperx_transcribe import logger, start_time"
   ]
  },
  {
   "cell_type": "code",
   "execution_count": null,
   "metadata": {},
   "outputs": [],
   "source": [
    "HISTORY = \"../.history\"\n",
    "PROMPT_FILE = \"../prompts/instructions_01.md\"\n",
    "SEG_FILE = \"../assets/sample/audio_diarized.json\"\n",
    "GROUP_SEG_FILE = f\"../{SEG_FILE.split('.')[0]}_grouped.json\""
   ]
  },
  {
   "cell_type": "code",
   "execution_count": null,
   "metadata": {},
   "outputs": [],
   "source": [
    "segments = ut.load_segments(segments_file=SEG_FILE)\n",
    "grouped_segments = ut.group_speakers(segments=segments, speaker_names={})\n",
    "with open(GROUP_SEG_FILE, \"w\") as f:\n",
    "    json.dump(grouped_segments, f, indent=4)\n",
    "\n",
    "with open(PROMPT_FILE, \"r\") as f:\n",
    "    instructions = f.read()"
   ]
  },
  {
   "cell_type": "code",
   "execution_count": null,
   "metadata": {},
   "outputs": [],
   "source": [
    "len(grouped_segments)"
   ]
  },
  {
   "cell_type": "code",
   "execution_count": null,
   "metadata": {},
   "outputs": [],
   "source": [
    "ut.speaker_segment(grouped_segments[2])"
   ]
  },
  {
   "cell_type": "code",
   "execution_count": null,
   "metadata": {},
   "outputs": [],
   "source": [
    "SPEAKERS = ut.get_all_speakers(segments=grouped_segments)\n",
    "SPEAKERS"
   ]
  },
  {
   "cell_type": "code",
   "execution_count": null,
   "metadata": {},
   "outputs": [],
   "source": [
    "model = \"gemma3:4b\"\n",
    "llm = Ollama(model=model, request_timeout=1000)\n",
    "embed_model = HuggingFaceEmbedding(\n",
    "    \"Qwen/Qwen3-Embedding-0.6B\",\n",
    "    trust_remote_code=True,\n",
    "    cache_folder=\"../model\",\n",
    ")\n",
    "Settings.embed_model = embed_model\n",
    "Settings.llm = llm\n",
    "\n",
    "persist_dir = \"storage\"\n",
    "Path(persist_dir).mkdir(parents=True, exist_ok=True)"
   ]
  },
  {
   "cell_type": "code",
   "execution_count": null,
   "metadata": {},
   "outputs": [],
   "source": [
    "QUERY_PROMPT = open(\"../prompts/user_final_01.md\", \"r\").read()"
   ]
  },
  {
   "cell_type": "code",
   "execution_count": null,
   "metadata": {},
   "outputs": [],
   "source": [
    "from llama_index.core import VectorStoreIndex, StorageContext, SummaryIndex\n",
    "\n",
    "index = SummaryIndex.from_documents(documents=[], show_progress=True)\n",
    "# storage_context=StorageContext.from_defaults(persist_dir=persist_dir)\n",
    "index.set_index_id(f\"vector_index_{start_time}\")\n",
    "index.storage_context.persist(persist_dir)\n",
    "len_segments = len(grouped_segments)\n",
    "for idx, segment in enumerate(grouped_segments):\n",
    "    doc = ut.speaker_segment(segment)\n",
    "    index.insert(doc)"
   ]
  },
  {
   "cell_type": "code",
   "execution_count": null,
   "metadata": {},
   "outputs": [],
   "source": [
    "from llama_index.core.vector_stores import (\n",
    "    FilterOperator,\n",
    "    MetadataFilter,\n",
    "    MetadataFilters,\n",
    "    ExactMatchFilter,\n",
    ")\n",
    "from llama_index.core.prompts import RichPromptTemplate, SelectorPromptTemplate\n",
    "from llama_index.core.query_engine import RetrieverQueryEngine"
   ]
  },
  {
   "cell_type": "code",
   "execution_count": null,
   "metadata": {},
   "outputs": [],
   "source": [
    "def query_per_speaker(speaker: str):\n",
    "    \"\"\"Query the index for a specific speaker.\"\"\"\n",
    "    template_var_mappings = {\n",
    "        \"speaker\": speaker,\n",
    "        # context_str mapping is done internally\n",
    "    }\n",
    "    base = RichPromptTemplate(\n",
    "        template_str=open(\"../prompts/user_per_speaker_01.md\", \"r\").read(),\n",
    "        template_format=\"f-string\",\n",
    "        template_var_mappings=template_var_mappings,\n",
    "    )\n",
    "\n",
    "    filters = MetadataFilters(filters=[ExactMatchFilter(key=\"speaker\", value=speaker)])\n",
    "    qe = index.as_query_engine(\n",
    "        # text_qa_template=base,\n",
    "        # 'response_synthesizer:summary_template'\n",
    "        summary_template=base,\n",
    "        response_mode=\"tree_summarize\",\n",
    "        filters=filters,\n",
    "    )\n",
    "    # qe = RetrieverQueryEngine.from_args(\n",
    "    #     retriever=retriever,\n",
    "    #     llm=Settings.llm,\n",
    "    #     summary_template=base,\n",
    "    #     text_qa_template=base,\n",
    "    #     response_mode=\"tree_summarize\",\n",
    "    # )\n",
    "    prompts_dict = qe.get_prompts()\n",
    "    print(prompts_dict)\n",
    "    # return\n",
    "\n",
    "    return qe.query(\" \")  # query_str is not used."
   ]
  },
  {
   "cell_type": "markdown",
   "metadata": {},
   "source": [
    "Here we are summarizing people, and what they said. May not be great for interwoven conversations. OK for single speakers. "
   ]
  },
  {
   "cell_type": "code",
   "execution_count": null,
   "metadata": {},
   "outputs": [],
   "source": [
    "for speaker in SPEAKERS:\n",
    "    response = query_per_speaker(speaker)\n",
    "    print(f\"Summary for {speaker}:\", response)\n",
    "    print(\"\\n\" + \"=\" * 80 + \"\\n\")"
   ]
  },
  {
   "cell_type": "code",
   "execution_count": null,
   "metadata": {},
   "outputs": [],
   "source": []
  }
 ],
 "metadata": {
  "kernelspec": {
   "display_name": "wxt",
   "language": "python",
   "name": "python3"
  },
  "language_info": {
   "codemirror_mode": {
    "name": "ipython",
    "version": 3
   },
   "file_extension": ".py",
   "mimetype": "text/x-python",
   "name": "python",
   "nbconvert_exporter": "python",
   "pygments_lexer": "ipython3",
   "version": "3.10.14"
  }
 },
 "nbformat": 4,
 "nbformat_minor": 2
}
