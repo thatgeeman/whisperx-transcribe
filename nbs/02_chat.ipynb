{
 "cells": [
  {
   "cell_type": "code",
   "execution_count": null,
   "metadata": {},
   "outputs": [],
   "source": [
    "import json\n",
    "import os\n",
    "from datetime import datetime\n",
    "\n",
    "from langchain_core.prompts import PromptTemplate\n",
    "from llama_index.core import Settings\n",
    "from llama_index.llms.ollama import Ollama\n",
    "from llama_index.embeddings.huggingface import HuggingFaceEmbedding\n",
    "from pathlib import Path\n",
    "\n",
    "import whisperx_transcribe.utils as ut\n",
    "from whisperx_transcribe import logger, start_time"
   ]
  },
  {
   "cell_type": "code",
   "execution_count": null,
   "metadata": {},
   "outputs": [],
   "source": [
    "HISTORY = \"../.history\"\n",
    "PROMPT_FILE = \"../prompts/instructions_01.md\"\n",
    "SEG_FILE = \"../assets/meeting_nvh_2025-07-25_diarized.json\"\n",
    "GROUP_SEG_FILE = f\"../{SEG_FILE.split('.')[0]}_grouped.json\""
   ]
  },
  {
   "cell_type": "code",
   "execution_count": null,
   "metadata": {},
   "outputs": [],
   "source": [
    "segments = ut.load_segments(segments_file=SEG_FILE)\n",
    "grouped_segments = ut.group_speakers(segments=segments, speaker_names={})\n",
    "with open(GROUP_SEG_FILE, \"w\") as f:\n",
    "    json.dump(grouped_segments, f, indent=4)\n",
    "\n",
    "with open(PROMPT_FILE, \"r\") as f:\n",
    "    instructions = f.read()"
   ]
  },
  {
   "cell_type": "code",
   "execution_count": null,
   "metadata": {},
   "outputs": [],
   "source": [
    "grouped_segments[10]"
   ]
  },
  {
   "cell_type": "code",
   "execution_count": null,
   "metadata": {},
   "outputs": [],
   "source": [
    "ut.speaker_segment(grouped_segments[2])"
   ]
  },
  {
   "cell_type": "code",
   "execution_count": null,
   "metadata": {},
   "outputs": [],
   "source": [
    "SPEAKERS = ut.get_all_speakers(segments=grouped_segments)\n",
    "SPEAKERS"
   ]
  },
  {
   "cell_type": "code",
   "execution_count": null,
   "metadata": {},
   "outputs": [],
   "source": [
    "model = \"qwen2.5-coder:3b-instruct-q8_0\"\n",
    "llm = Ollama(model=model, request_timeout=1000)\n",
    "embed_model = HuggingFaceEmbedding(\n",
    "    \"jinaai/jina-embeddings-v3\",\n",
    "    trust_remote_code=True,\n",
    "    cache_folder=\"../model\",\n",
    ")\n",
    "Settings.embed_model = embed_model\n",
    "Settings.llm = llm\n",
    "\n",
    "persist_dir = \"storage\"\n",
    "Path(persist_dir).mkdir(parents=True, exist_ok=True)"
   ]
  },
  {
   "cell_type": "code",
   "execution_count": null,
   "metadata": {},
   "outputs": [],
   "source": [
    "QUERY_PROMPT = open(\"../prompts/user_final_01.md\", \"r\").read()"
   ]
  },
  {
   "cell_type": "code",
   "execution_count": null,
   "metadata": {},
   "outputs": [],
   "source": [
    "ut.speaker_segment(grouped_segments[0])"
   ]
  },
  {
   "cell_type": "code",
   "execution_count": null,
   "metadata": {},
   "outputs": [],
   "source": [
    "from llama_index.core import VectorStoreIndex, StorageContext, SummaryIndex\n",
    "\n",
    "index = SummaryIndex.from_documents(documents=[], show_progress=True)\n",
    "# storage_context=StorageContext.from_defaults(persist_dir=persist_dir)\n",
    "index.set_index_id(f\"vector_index_{start_time}\")\n",
    "index.storage_context.persist(persist_dir)\n",
    "len_segments = len(grouped_segments)\n",
    "for idx, segment in enumerate(grouped_segments):\n",
    "    doc = ut.speaker_segment(segment)\n",
    "    index.insert(doc)\n",
    "    # # every 20% of the segments, query the index\n",
    "    # if (idx + 1) % (len_segments // 5) == 0:\n",
    "    #     PROMPT = \"\"\"**Task**\n",
    "    #     1. Read the provided transcript\n",
    "    #     2. Identify the important topics they addressed.\n",
    "\n",
    "    #     **Formatting rules**\n",
    "\n",
    "    #     - Use Markdown throughout.\n",
    "    #     - Do **not** mention these instructions in your answer.\n",
    "\n",
    "    #     **Input transcript structure**\n",
    "    #     You have received the transcript for\n",
    "\n",
    "    #     Review the transcript and perform the tasks above based on the provided instructions.\"\"\"\n",
    "\n",
    "    #     query_engine = index.as_query_engine(\n",
    "    #         text_qa_template=PROMPT, response_mode=\"tree_summarize\"\n",
    "    #     )\n",
    "    #     answer = query_engine.query(QUERY_PROMPT)\n",
    "    #     print(answer)"
   ]
  },
  {
   "cell_type": "code",
   "execution_count": null,
   "metadata": {},
   "outputs": [],
   "source": [
    "from llama_index.core.vector_stores import (\n",
    "    FilterOperator,\n",
    "    MetadataFilter,\n",
    "    MetadataFilters,\n",
    "    ExactMatchFilter,\n",
    ")\n",
    "from llama_index.core.prompts import RichPromptTemplate, SelectorPromptTemplate\n",
    "from llama_index.core.query_engine import RetrieverQueryEngine"
   ]
  },
  {
   "cell_type": "code",
   "execution_count": null,
   "metadata": {},
   "outputs": [],
   "source": [
    "def query_per_speaker(speaker: str):\n",
    "    \"\"\"Query the index for a specific speaker.\"\"\"\n",
    "    template_var_mappings = {\n",
    "        \"speaker\": speaker,\n",
    "    }\n",
    "    base = RichPromptTemplate(\n",
    "        template_str=open(\"../prompts/user_per_speaker_01.md\", \"r\").read(),\n",
    "        template_format=\"f-string\",\n",
    "        template_var_mappings=template_var_mappings,\n",
    "    )\n",
    "\n",
    "    filters = MetadataFilters(filters=[ExactMatchFilter(key=\"speaker\", value=speaker)])\n",
    "    qe = index.as_query_engine(\n",
    "        # text_qa_template=base,\n",
    "        # 'response_synthesizer:summary_template'\n",
    "        summary_template=base,\n",
    "        response_mode=\"tree_summarize\",\n",
    "        filters=filters,\n",
    "    )\n",
    "    # qe = RetrieverQueryEngine.from_args(\n",
    "    #     retriever=retriever,\n",
    "    #     llm=Settings.llm,\n",
    "    #     summary_template=base,\n",
    "    #     text_qa_template=base,\n",
    "    #     response_mode=\"tree_summarize\",\n",
    "    # )\n",
    "    prompts_dict = qe.get_prompts()\n",
    "    print(prompts_dict)\n",
    "    # return\n",
    "\n",
    "    return qe.query(\" \")  # query_str is not used."
   ]
  },
  {
   "cell_type": "code",
   "execution_count": null,
   "metadata": {},
   "outputs": [],
   "source": [
    "for speaker in SPEAKERS:\n",
    "    response = query_per_speaker(speaker)\n",
    "    print(f\"Response for {speaker}:\", response)\n",
    "    print(\"\\n\" + \"=\" * 80 + \"\\n\")\n",
    "    break"
   ]
  },
  {
   "cell_type": "code",
   "execution_count": null,
   "metadata": {},
   "outputs": [],
   "source": []
  },
  {
   "cell_type": "code",
   "execution_count": null,
   "metadata": {},
   "outputs": [],
   "source": [
    "SUMMARY_PROMPT = \"\"\"\n",
    "You have received the transcript for a conversation. \n",
    "\n",
    "**Task**\n",
    "\n",
    "1. Read the provided transcript and keep note of the speaker\n",
    "2. Identify the key topics (1-2 points) they addressed.\n",
    "3. Organize the topics into a clear, hierarchical structure.\n",
    "4. After the turn by turn transcript has been reviewed for the full conversation, create an **Action‑Item table** with columns: `# | Action item | Responsible party / audience | Time reference`\n",
    "5. Finish with a short **TL;DR / Core take‑aways** section (≤ 8 lines).\n",
    "\n",
    "**Formatting rules**\n",
    "\n",
    "- Use Markdown throughout.\n",
    "- In the action table, keep **one action per row**.\n",
    "- Do **not** mention these instructions in your answer.\n",
    "\"\"\"\n",
    "\n",
    "query_engine = index.as_query_engine(\n",
    "    text_qa_template=SUMMARY_PROMPT, response_mode=\"tree_summarize\"\n",
    ")  # hierarchical\n",
    "answer = query_engine.query(\"Give me a running bullet recap so far\")\n",
    "print(answer)"
   ]
  },
  {
   "cell_type": "markdown",
   "metadata": {},
   "source": []
  }
 ],
 "metadata": {
  "kernelspec": {
   "display_name": "whisperx",
   "language": "python",
   "name": "python3"
  },
  "language_info": {
   "codemirror_mode": {
    "name": "ipython",
    "version": 3
   },
   "file_extension": ".py",
   "mimetype": "text/x-python",
   "name": "python",
   "nbconvert_exporter": "python",
   "pygments_lexer": "ipython3",
   "version": "3.10.18"
  }
 },
 "nbformat": 4,
 "nbformat_minor": 2
}
